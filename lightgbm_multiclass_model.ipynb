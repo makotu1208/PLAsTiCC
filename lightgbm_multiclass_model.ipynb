{
 "cells": [
  {
   "cell_type": "markdown",
   "metadata": {},
   "source": [
    "## Import library"
   ]
  },
  {
   "cell_type": "code",
   "execution_count": 102,
   "metadata": {},
   "outputs": [],
   "source": [
    "import lightgbm as lgb\n",
    "\n",
    "from sklearn import datasets\n",
    "from sklearn.model_selection import train_test_split\n",
    "from sklearn.feature_selection import SelectFromModel\n",
    "from tqdm import tqdm_notebook\n",
    "\n",
    "import numpy as np\n",
    "import pandas as pd\n",
    "import gc"
   ]
  },
  {
   "cell_type": "code",
   "execution_count": 103,
   "metadata": {},
   "outputs": [],
   "source": [
    "def multi_weighted_logloss(y_true, y_preds):\n",
    "    \"\"\"\n",
    "    @author olivier https://www.kaggle.com/ogrellier\n",
    "    multi logloss for PLAsTiCC challenge\n",
    "    \"\"\"\n",
    "    classes = [6, 15, 16, 42, 52, 53, 62, 64, 65, 67, 88, 90, 92, 95]\n",
    "    class_weight = {6: 1, 15: 2, 16: 1, 42: 1, 52: 1, 53: 1, 62: 1, 64: 2, 65: 1, 67: 1, 88: 1, 90: 1, 92: 1, 95: 1}\n",
    "    if len(np.unique(y_true)) > 14:\n",
    "        classes.append(99)\n",
    "        class_weight[99] = 2\n",
    "    y_p = y_preds\n",
    "    y_ohe = pd.get_dummies(y_true)\n",
    "    y_p = np.clip(a=y_p, a_min=1e-15, a_max=1 - 1e-15)\n",
    "    # Transform to log\n",
    "    y_p_log = np.log(y_p)\n",
    "    y_log_ones = np.sum(y_ohe.values * y_p_log, axis=0)\n",
    "    nb_pos = y_ohe.sum(axis=0).values.astype(float)\n",
    "    class_arr = np.array([class_weight[k] for k in sorted(class_weight.keys())])\n",
    "    y_w = y_log_ones * class_arr / nb_pos\n",
    "\n",
    "    loss = - np.sum(y_w) / np.sum(class_arr)\n",
    "    return loss"
   ]
  },
  {
   "cell_type": "code",
   "execution_count": 106,
   "metadata": {},
   "outputs": [],
   "source": [
    "def lgb_multi_weighted_logloss(y_true, y_preds):\n",
    "    \"\"\"\n",
    "    @author olivier https://www.kaggle.com/ogrellier\n",
    "    multi logloss for PLAsTiCC challenge\n",
    "    \"\"\"\n",
    "    classes = [6, 15, 16, 42, 52, 53, 62, 64, 65, 67, 88, 90, 92, 95]\n",
    "    class_weight = {6: 1, 15: 2, 16: 1, 42: 1, 52: 1, 53: 1, 62: 1, 64: 2, 65: 1, 67: 1, 88: 1, 90: 1, 92: 1, 95: 1}\n",
    "    if len(np.unique(y_true)) > 14:\n",
    "        classes.append(99)\n",
    "        class_weight[99] = 2\n",
    "    y_p = y_preds.reshape(y_true.shape[0], len(classes), order='F')\n",
    "    y_ohe = pd.get_dummies(y_true)\n",
    "    y_p = np.clip(a=y_p, a_min=1e-15, a_max=1 - 1e-15)\n",
    "    y_p_log = np.log(y_p)\n",
    "    y_log_ones = np.sum(y_ohe.values * y_p_log, axis=0)\n",
    "    nb_pos = y_ohe.sum(axis=0).values.astype(float)\n",
    "    class_arr = np.array([class_weight[k] for k in sorted(class_weight.keys())])\n",
    "    y_w = y_log_ones * class_arr / nb_pos\n",
    "\n",
    "    loss = - np.sum(y_w) / np.sum(class_arr)\n",
    "    return 'wloss', loss, False"
   ]
  },
  {
   "cell_type": "markdown",
   "metadata": {},
   "source": [
    "## Data import"
   ]
  },
  {
   "cell_type": "code",
   "execution_count": 107,
   "metadata": {},
   "outputs": [],
   "source": [
    "#train_gal = pd.read_pickle('../input/train_gal_20181214.pickle')\n",
    "#test_gal = pd.read_pickle('../input/test_gal_20181214.pickle')\n",
    "train = pd.read_pickle('../input/train_ex_gal_20181214.pickle')\n",
    "test = pd.read_pickle('../input/test_ex_gal_20181214.pickle')"
   ]
  },
  {
   "cell_type": "code",
   "execution_count": 108,
   "metadata": {},
   "outputs": [],
   "source": [
    "train_oof = pd.read_pickle('../input/oof_result_20181216_v3_simple.pickle') # Best:1216(0.947)\n",
    "test_oof = pd.read_pickle('../input/preds_result_20181216_v3_simple.pickle') # Best:1216(0.947)"
   ]
  },
  {
   "cell_type": "code",
   "execution_count": 109,
   "metadata": {},
   "outputs": [],
   "source": [
    "train_sixth_band = pd.read_pickle('../input/train_sixth_byband.pickle')\n",
    "test_sixth_band = pd.read_pickle('../input/test_sixth_byband.pickle')"
   ]
  },
  {
   "cell_type": "code",
   "execution_count": 110,
   "metadata": {},
   "outputs": [],
   "source": [
    "train_fix_band_0_stats = pd.read_pickle('../input/train_band_0_fix_stats.pickle')\n",
    "test_fix_band_0_stats = pd.read_pickle('../input/test_band_0_fix_stats.pickle')\n",
    "train_fix_band_1_stats = pd.read_pickle('../input/train_band_1_fix_stats.pickle')\n",
    "test_fix_band_1_stats = pd.read_pickle('../input/test_band_1_fix_stats.pickle')\n",
    "#train_fix_band_2_stats = pd.read_pickle('../input/train_band_2_fix_stats.pickle')\n",
    "#test_fix_band_2_stats = pd.read_pickle('../input/test_band_2_fix_stats.pickle')"
   ]
  },
  {
   "cell_type": "code",
   "execution_count": 111,
   "metadata": {},
   "outputs": [],
   "source": [
    "train_length = pd.read_pickle('../input/train_length.pickle')\n",
    "test_length = pd.read_pickle('../input/test_length.pickle')\n",
    "\n",
    "train_band_length = pd.read_pickle('../input/train_band_length.pickle')\n",
    "test_band_length = pd.read_pickle('../input/test_band_length.pickle')"
   ]
  },
  {
   "cell_type": "code",
   "execution_count": 112,
   "metadata": {},
   "outputs": [],
   "source": [
    "train = pd.merge(train,train_oof,on='object_id',how='left')\n",
    "#train = pd.merge(train,train_sixth_band,on='object_id',how='left')\n",
    "train = pd.merge(train,train_length,on='object_id',how='left')\n",
    "train = pd.merge(train,train_band_length,on='object_id',how='left')\n",
    "train = pd.merge(train,train_fix_band_0_stats ,on='object_id',how='left')\n",
    "train = pd.merge(train,train_fix_band_1_stats ,on='object_id',how='left')\n",
    "#train = pd.merge(train,train_fix_band_2_stats ,on='object_id',how='left')"
   ]
  },
  {
   "cell_type": "code",
   "execution_count": 113,
   "metadata": {},
   "outputs": [],
   "source": [
    "test = pd.merge(test,test_oof,on='object_id',how='left')\n",
    "#test = pd.merge(test,test_sixth_band,on='object_id',how='left')\n",
    "test = pd.merge(test,test_length,on='object_id',how='left')\n",
    "test = pd.merge(test,test_band_length,on='object_id',how='left')\n",
    "test = pd.merge(test,test_fix_band_0_stats ,on='object_id',how='left')\n",
    "test = pd.merge(test,test_fix_band_1_stats ,on='object_id',how='left')\n",
    "#test = pd.merge(test,test_fix_band_2_stats ,on='object_id',how='left')"
   ]
  },
  {
   "cell_type": "code",
   "execution_count": 114,
   "metadata": {},
   "outputs": [
    {
     "name": "stdout",
     "output_type": "stream",
     "text": [
      "(7848, 231)\n",
      "(3492890, 230)\n"
     ]
    }
   ],
   "source": [
    "print(train.shape)\n",
    "print(test.shape)"
   ]
  },
  {
   "cell_type": "code",
   "execution_count": 115,
   "metadata": {},
   "outputs": [],
   "source": [
    "train['flux__longest_strike_above_mean'] = train['flux__longest_strike_above_mean'] / train['count']\n",
    "train['flux__number_crossing_m__m_1'] = train['flux__number_crossing_m__m_1'] / train['count']\n",
    "\n",
    "train['0__longest_strike_above_mean'] = train['0__longest_strike_above_mean'] / train['passband_count_0']\n",
    "train['1__longest_strike_above_mean'] = train['1__longest_strike_above_mean'] / train['passband_count_1']\n",
    "train['2__longest_strike_above_mean'] = train['2__longest_strike_above_mean'] / train['passband_count_2']\n",
    "train['3__longest_strike_above_mean'] = train['3__longest_strike_above_mean'] / train['passband_count_3']\n",
    "train['4__longest_strike_above_mean'] = train['4__longest_strike_above_mean'] / train['passband_count_4']\n",
    "train['5__longest_strike_above_mean'] = train['5__longest_strike_above_mean'] / train['passband_count_5']\n",
    "\n",
    "train['0__number_crossing_m__m_1'] = train['0__number_crossing_m__m_1'] / train['passband_count_0']\n",
    "train['1__number_crossing_m__m_1'] = train['1__number_crossing_m__m_1'] / train['passband_count_1']\n",
    "train['2__number_crossing_m__m_1'] = train['2__number_crossing_m__m_1'] / train['passband_count_2']\n",
    "train['3__number_crossing_m__m_1'] = train['3__number_crossing_m__m_1'] / train['passband_count_3']\n",
    "train['4__number_crossing_m__m_1'] = train['4__number_crossing_m__m_1'] / train['passband_count_4']\n",
    "train['5__number_crossing_m__m_1'] = train['5__number_crossing_m__m_1'] / train['passband_count_5']"
   ]
  },
  {
   "cell_type": "code",
   "execution_count": 116,
   "metadata": {},
   "outputs": [],
   "source": [
    "test['flux__longest_strike_above_mean'] = test['flux__longest_strike_above_mean'] / test['count']\n",
    "test['flux__number_crossing_m__m_1'] = test['flux__number_crossing_m__m_1'] / test['count']\n",
    "\n",
    "test['0__longest_strike_above_mean'] = test['0__longest_strike_above_mean'] / test['passband_count_0']\n",
    "test['1__longest_strike_above_mean'] = test['1__longest_strike_above_mean'] / test['passband_count_1']\n",
    "test['2__longest_strike_above_mean'] = test['2__longest_strike_above_mean'] / test['passband_count_2']\n",
    "test['3__longest_strike_above_mean'] = test['3__longest_strike_above_mean'] / test['passband_count_3']\n",
    "test['4__longest_strike_above_mean'] = test['4__longest_strike_above_mean'] / test['passband_count_4']\n",
    "test['5__longest_strike_above_mean'] = test['5__longest_strike_above_mean'] / test['passband_count_5']\n",
    "\n",
    "test['0__number_crossing_m__m_1'] = test['0__number_crossing_m__m_1'] / test['passband_count_0']\n",
    "test['1__number_crossing_m__m_1'] = test['1__number_crossing_m__m_1'] / test['passband_count_1']\n",
    "test['2__number_crossing_m__m_1'] = test['2__number_crossing_m__m_1'] / test['passband_count_2']\n",
    "test['3__number_crossing_m__m_1'] = test['3__number_crossing_m__m_1'] / test['passband_count_3']\n",
    "test['4__number_crossing_m__m_1'] = test['4__number_crossing_m__m_1'] / test['passband_count_4']\n",
    "test['5__number_crossing_m__m_1'] = test['5__number_crossing_m__m_1'] / test['passband_count_5']"
   ]
  },
  {
   "cell_type": "code",
   "execution_count": 117,
   "metadata": {},
   "outputs": [],
   "source": [
    "drop_list = ['passband_count_0','passband_count_1','passband_count_2','passband_count_3','passband_count_4','passband_count_5'\n",
    "             ,'count','count_det','flux_dif','index','flux_mean','flux_mean_detected'\n",
    "             ,'0__minimum_diff','1__minimum_diff','2__minimum_diff','3__minimum_diff','4__minimum_diff','5__minimum_diff'\n",
    "             ,'diff_flux__minimum_diff','diff_flux__minimum_diff_det']"
   ]
  },
  {
   "cell_type": "code",
   "execution_count": 118,
   "metadata": {},
   "outputs": [],
   "source": [
    "train = train.drop(drop_list, axis=1)\n",
    "test = test.drop(drop_list, axis=1)"
   ]
  },
  {
   "cell_type": "code",
   "execution_count": 119,
   "metadata": {},
   "outputs": [],
   "source": [
    "def check_null(data):\n",
    "    print(data.isnull().sum())\n",
    "\n",
    "pd.set_option('display.max_rows', 500)\n",
    "#print(check_null(train))\n",
    "#print(check_null(test))"
   ]
  },
  {
   "cell_type": "code",
   "execution_count": 120,
   "metadata": {},
   "outputs": [],
   "source": [
    "# add mean → good result\n",
    "\n",
    "train = train.replace([np.inf, -np.inf], np.nan)\n",
    "test = test.replace([np.inf, -np.inf], np.nan)\n",
    "\n",
    "train_mean = train.mean(axis=0)\n",
    "train.fillna(train_mean, inplace=True)\n",
    "test = test.fillna(train_mean)"
   ]
  },
  {
   "cell_type": "code",
   "execution_count": 121,
   "metadata": {},
   "outputs": [
    {
     "name": "stdout",
     "output_type": "stream",
     "text": [
      "(7848, 211) 行×列\n",
      "train:使用メモリ 0.01 GB\n",
      "(3492890, 210) 行×列\n",
      "test:使用メモリ 5.1 GB\n"
     ]
    }
   ],
   "source": [
    "import sys\n",
    "# check used_momery\n",
    "print(train.shape,\"行×列\")\n",
    "print(\"train:使用メモリ\",round(sys.getsizeof(train) / 1073741824,2),\"GB\")\n",
    "\n",
    "print(test.shape,\"行×列\")\n",
    "print(\"test:使用メモリ\",round(sys.getsizeof(test) / 1073741824,2),\"GB\")"
   ]
  },
  {
   "cell_type": "markdown",
   "metadata": {},
   "source": [
    "## modeling_lgbm"
   ]
  },
  {
   "cell_type": "code",
   "execution_count": 122,
   "metadata": {},
   "outputs": [],
   "source": [
    "gc.collect()\n",
    "y = train['target']\n",
    "del train['target']\n",
    "del train['object_id'], test['object_id']"
   ]
  },
  {
   "cell_type": "code",
   "execution_count": 123,
   "metadata": {},
   "outputs": [],
   "source": [
    "import logging\n",
    "\n",
    "\n",
    "def create_logger():\n",
    "    logger_ = logging.getLogger('main')\n",
    "    logger_.setLevel(logging.DEBUG)\n",
    "    fh = logging.FileHandler('simple_lightgbm_v2.log')\n",
    "    fh.setLevel(logging.DEBUG)\n",
    "    ch = logging.StreamHandler()\n",
    "    ch.setLevel(logging.DEBUG)\n",
    "    formatter = logging.Formatter('[%(levelname)s]%(asctime)s:%(name)s:%(message)s')\n",
    "    fh.setFormatter(formatter)\n",
    "    ch.setFormatter(formatter)\n",
    "    # add the handlers to the logger\n",
    "    logger_.addHandler(fh)\n",
    "    logger_.addHandler(ch)\n",
    "\n",
    "\n",
    "def get_logger():\n",
    "    return logging.getLogger('main')"
   ]
  },
  {
   "cell_type": "code",
   "execution_count": 124,
   "metadata": {},
   "outputs": [],
   "source": [
    "from sklearn.model_selection import StratifiedKFold\n",
    "def train_classifiers(full_train=None, y=None, seed_list=[1,2]):\n",
    "    \n",
    "    preds_merge = pd.DataFrame()\n",
    "    \n",
    "    for seed_num in seed_list:\n",
    "        print('------------ seed {} start ------------'.format(seed_num))\n",
    "        \n",
    "        folds = StratifiedKFold(n_splits=5, shuffle=True, random_state=seed_num)\n",
    "        clfs = []\n",
    "        importances = pd.DataFrame()\n",
    "\n",
    "        # conclusion:defalut is great!\n",
    "        lgb_params = {\n",
    "            'boosting_type': 'gbdt',\n",
    "            'objective': 'multiclass',\n",
    "            'num_class': 14,\n",
    "            'metric': 'multi_logloss',\n",
    "            'learning_rate': 0.03, #def:0.03\n",
    "            'subsample': .8,\n",
    "            'colsample_bytree': .7,\n",
    "            'reg_alpha': .01,\n",
    "            'reg_lambda': .01,\n",
    "            'min_split_gain': 0.01, #def:0.01\n",
    "            'min_child_weight': 10, # def:10\n",
    "            #'min_data_in_leaf':50,\n",
    "            'n_estimators': 4000,\n",
    "            'silent': -1,\n",
    "            'verbose': -1,\n",
    "            'max_depth': 3,\n",
    "            #'num_leaves': 3, # add\n",
    "            #'max_bin':31 #add\n",
    "            #'use_missing': False\n",
    "        }\n",
    "        clf = lgb.LGBMClassifier(**lgb_params)\n",
    "\n",
    "        lgb_selector = SelectFromModel(clf)\n",
    "        lgb_selector.fit(full_train, y)\n",
    "        feature_idx = lgb_selector.get_support() \n",
    "        feature_name = full_train.columns[feature_idx]\n",
    "        full_train = full_train[feature_name]\n",
    "\n",
    "        # Compute weights\n",
    "        w = y.value_counts()\n",
    "        weights = {i : np.sum(w) / w[i] for i in w.index}\n",
    "\n",
    "        oof_preds = np.zeros((len(full_train), np.unique(y).shape[0]))\n",
    "        \n",
    "        for fold_, (trn_, val_) in enumerate(folds.split(y, y)):\n",
    "            trn_x, trn_y = full_train.iloc[trn_], y.iloc[trn_]\n",
    "            val_x, val_y = full_train.iloc[val_], y.iloc[val_]\n",
    "\n",
    "            clf = lgb.LGBMClassifier(**lgb_params)\n",
    "            clf.fit(\n",
    "                trn_x, trn_y,\n",
    "                eval_set=[(trn_x, trn_y), (val_x, val_y)],\n",
    "                eval_metric=lgb_multi_weighted_logloss,\n",
    "                verbose=1000,\n",
    "                early_stopping_rounds=50,\n",
    "                sample_weight=trn_y.map(weights),\n",
    "                #init_score = init_result.values\n",
    "            )\n",
    "\n",
    "            oof_preds[val_, :] = clf.predict_proba(val_x, num_iteration=clf.best_iteration_)\n",
    "            get_logger().info(multi_weighted_logloss(val_y, clf.predict_proba(val_x, num_iteration=clf.best_iteration_)))\n",
    "\n",
    "            imp_df = pd.DataFrame()\n",
    "            imp_df['feature'] = full_train.columns\n",
    "            imp_df['gain'] = clf.feature_importances_\n",
    "            imp_df['fold'] = fold_ + 1\n",
    "            importances = pd.concat([importances, imp_df], axis=0, sort=False)\n",
    "\n",
    "            clfs.append(clf)\n",
    "    \n",
    "        preds_ = None\n",
    "        for clf in tqdm_notebook(clfs):\n",
    "            if preds_ is None:\n",
    "                preds_ = clf.predict_proba(test[feature_name]) / len(clfs)\n",
    "            else:\n",
    "                preds_ += clf.predict_proba(test[feature_name]) / len(clfs)\n",
    "        \n",
    "        if seed_num == 1:\n",
    "            preds_merge = preds_ / len(seed_list)\n",
    "        else:\n",
    "            preds_merge += preds_ / len(seed_list)\n",
    "    \n",
    "    preds_merge = pd.DataFrame(preds_merge, columns=['class_' + str(s) for s in clfs[0].classes_])\n",
    "    \n",
    "    get_logger().info('MULTI WEIGHTED LOG LOSS : %.5f ' % multi_weighted_logloss(y_true=y, y_preds=oof_preds))\n",
    "    print('MULTI WEIGHTED LOG LOSS : %.5f ' % multi_weighted_logloss(y_true=y, y_preds=oof_preds))\n",
    "\n",
    "    return clfs, importances, preds_merge\n"
   ]
  },
  {
   "cell_type": "code",
   "execution_count": 125,
   "metadata": {},
   "outputs": [],
   "source": [
    "import matplotlib.pyplot as plt\n",
    "import seaborn as sns\n",
    "def save_importances(importances_):\n",
    "    mean_gain = importances_[['gain', 'feature']].groupby('feature').mean()\n",
    "    importances_['mean_gain'] = importances_['feature'].map(mean_gain['gain'])\n",
    "    plt.figure(figsize=(8, 25))\n",
    "    sns.barplot(x='gain', y='feature', data=importances_.sort_values('mean_gain', ascending=False))\n",
    "    plt.tight_layout()\n",
    "    plt.savefig('importances_1117_v1.png')"
   ]
  },
  {
   "cell_type": "markdown",
   "metadata": {},
   "source": [
    "## build model"
   ]
  },
  {
   "cell_type": "code",
   "execution_count": 126,
   "metadata": {},
   "outputs": [
    {
     "name": "stdout",
     "output_type": "stream",
     "text": [
      "------------ seed 1 start ------------\n",
      "Training until validation scores don't improve for 50 rounds.\n",
      "Early stopping, best iteration is:\n",
      "[308]\ttraining's multi_logloss: 0.2484\ttraining's wloss: 0.237143\tvalid_1's multi_logloss: 0.586558\tvalid_1's wloss: 0.471973\n",
      "Training until validation scores don't improve for 50 rounds.\n",
      "Early stopping, best iteration is:\n",
      "[214]\ttraining's multi_logloss: 0.301166\ttraining's wloss: 0.290127\tvalid_1's multi_logloss: 0.602491\tvalid_1's wloss: 0.505783\n",
      "Training until validation scores don't improve for 50 rounds.\n",
      "Early stopping, best iteration is:\n",
      "[271]\ttraining's multi_logloss: 0.267022\ttraining's wloss: 0.255672\tvalid_1's multi_logloss: 0.577401\tvalid_1's wloss: 0.474975\n",
      "Training until validation scores don't improve for 50 rounds.\n",
      "Early stopping, best iteration is:\n",
      "[280]\ttraining's multi_logloss: 0.260759\ttraining's wloss: 0.249961\tvalid_1's multi_logloss: 0.553763\tvalid_1's wloss: 0.471206\n",
      "Training until validation scores don't improve for 50 rounds.\n",
      "Early stopping, best iteration is:\n",
      "[279]\ttraining's multi_logloss: 0.264975\ttraining's wloss: 0.252858\tvalid_1's multi_logloss: 0.534387\tvalid_1's wloss: 0.500562\n"
     ]
    },
    {
     "data": {
      "application/vnd.jupyter.widget-view+json": {
       "model_id": "266fb333d7e247a5ae133e5322daa627",
       "version_major": 2,
       "version_minor": 0
      },
      "text/plain": [
       "HBox(children=(IntProgress(value=0, max=5), HTML(value='')))"
      ]
     },
     "metadata": {},
     "output_type": "display_data"
    },
    {
     "name": "stdout",
     "output_type": "stream",
     "text": [
      "MULTI WEIGHTED LOG LOSS : 0.48456 \n"
     ]
    }
   ],
   "source": [
    "#simple model 1216_v3\n",
    "clfs, importances, preds_merge = train_classifiers(train, y, seed_list=[1])"
   ]
  },
  {
   "cell_type": "code",
   "execution_count": 127,
   "metadata": {},
   "outputs": [
    {
     "name": "stderr",
     "output_type": "stream",
     "text": [
      "/usr/local/lib/python3.5/dist-packages/scipy/stats/stats.py:1713: FutureWarning: Using a non-tuple sequence for multidimensional indexing is deprecated; use `arr[tuple(seq)]` instead of `arr[seq]`. In the future this will be interpreted as an array index, `arr[np.array(seq)]`, which will result either in an error or a different result.\n",
      "  return np.add.reduce(sorted[indexer] * weights, axis=axis) / sumval\n"
     ]
    },
    {
     "data": {
      "image/png": "[encoded data removed]",
      "text/plain": [
       "<Figure size 576x1800 with 1 Axes>"
      ]
     },
     "metadata": {},
     "output_type": "display_data"
    }
   ],
   "source": [
    "# v3_simple_model_importance\n",
    "save_importances(importances_=importances)"
   ]
  },
  {
   "cell_type": "code",
   "execution_count": 128,
   "metadata": {},
   "outputs": [],
   "source": [
    "test = pd.read_pickle('../input/test_meta_add_feature.pickle')"
   ]
  },
  {
   "cell_type": "code",
   "execution_count": 129,
   "metadata": {},
   "outputs": [],
   "source": [
    "preds_ = preds_merge"
   ]
  },
  {
   "cell_type": "code",
   "execution_count": 50,
   "metadata": {},
   "outputs": [
    {
     "data": {
      "text/plain": [
       "3492890"
      ]
     },
     "execution_count": 50,
     "metadata": {},
     "output_type": "execute_result"
    }
   ],
   "source": [
    "preds_.values.shape[0]"
   ]
  },
  {
   "cell_type": "code",
   "execution_count": 130,
   "metadata": {},
   "outputs": [],
   "source": [
    "preds_99 = np.ones(preds_.values.shape[0])\n",
    "for i in range(preds_.shape[1]):\n",
    "    preds_99 *= (1 - preds_.values[:, i])\n",
    "\n",
    "# Create DataFrame from predictions\n",
    "preds_df_ = pd.DataFrame(preds_, columns=['class_' + str(s) for s in clfs[0].classes_])\n",
    "preds_df_['object_id'] = test['object_id']\n",
    "preds_df_['class_99'] = 0.14 * preds_99 / np.mean(preds_99) "
   ]
  },
  {
   "cell_type": "code",
   "execution_count": 131,
   "metadata": {},
   "outputs": [],
   "source": [
    "exgal_cols = [\"class_15\",\"class_42\",\"class_52\",\"class_62\",\"class_64\",\"class_67\",\"class_88\",\"class_90\",\"class_95\"]\n",
    "gal_cols = [\"class_6\",\"class_16\",\"class_53\",\"class_65\",\"class_92\"]\n",
    "total_cols = [\"class_6\",\"class_15\",\"class_16\",\"class_42\",\"class_52\",\"class_53\",\"class_62\",\"class_64\",\"class_65\",\"class_67\",\"class_88\",\"class_90\",\"class_92\",\"class_95\"]"
   ]
  },
  {
   "cell_type": "code",
   "execution_count": 132,
   "metadata": {},
   "outputs": [],
   "source": [
    "# post process\n",
    "pred_hostgal = pd.merge(preds_df_,test[['object_id','hostgal_photoz']],on='object_id',how='left')\n",
    "\n",
    "pred_gal = pred_hostgal[pred_hostgal['hostgal_photoz']==0].copy()\n",
    "pred_gal[exgal_cols]=0\n",
    "\n",
    "pred_ex_gal = pred_hostgal[pred_hostgal['hostgal_photoz']!=0].copy()\n",
    "pred_ex_gal[gal_cols]=0\n",
    "\n",
    "pred = pred_gal.append(pred_ex_gal)"
   ]
  },
  {
   "cell_type": "code",
   "execution_count": 133,
   "metadata": {},
   "outputs": [],
   "source": [
    "del pred['hostgal_photoz']\n",
    "result = pred.set_index('object_id')"
   ]
  },
  {
   "cell_type": "code",
   "execution_count": 134,
   "metadata": {},
   "outputs": [],
   "source": [
    "result.to_csv('../output/predictions_1216_v5.csv', float_format='%.6f')"
   ]
  },
  {
   "cell_type": "code",
   "execution_count": 135,
   "metadata": {},
   "outputs": [],
   "source": [
    "import os\n",
    "os.chdir('/home')"
   ]
  },
  {
   "cell_type": "code",
   "execution_count": 136,
   "metadata": {},
   "outputs": [
    {
     "name": "stdout",
     "output_type": "stream",
     "text": [
      "Successfully submitted to PLAsTiCC Astronomical Classification"
     ]
    },
    {
     "name": "stderr",
     "output_type": "stream",
     "text": [
      "kaggle_submit_fix.sh: 6: kaggle_submit_fix.sh: \r",
      ": not found\n",
      "\r",
      "  0%|          | 0.00/480M [00:00<?, ?B/s]\r",
      "  0%|          | 8.00k/480M [00:00<13:58:43, 10.0kB/s]\r",
      "  0%|          | 2.13M/480M [00:00<9:44:37, 14.3kB/s] \r",
      "  1%|▏         | 6.76M/480M [00:01<6:45:21, 20.4kB/s]\r",
      "  2%|▏         | 8.01M/480M [00:02<4:45:12, 28.9kB/s]\r",
      "  3%|▎         | 12.4M/480M [00:02<3:17:49, 41.3kB/s]\r",
      "  4%|▎         | 17.4M/480M [00:02<2:17:03, 59.0kB/s]\r",
      "  5%|▍         | 22.1M/480M [00:02<1:35:01, 84.2kB/s]\r",
      "  6%|▌         | 26.8M/480M [00:02<1:05:52, 120kB/s] \r",
      "  7%|▋         | 31.8M/480M [00:02<45:39, 172kB/s]  \r",
      "  8%|▊         | 36.9M/480M [00:02<31:38, 245kB/s]\r",
      "  9%|▊         | 41.5M/480M [00:02<21:58, 349kB/s]\r",
      " 10%|▉         | 46.2M/480M [00:03<15:15, 497kB/s]\r",
      " 11%|█         | 51.0M/480M [00:03<10:36, 707kB/s]\r",
      " 12%|█▏        | 55.5M/480M [00:03<07:23, 1.00MB/s]\r",
      " 12%|█▏        | 60.0M/480M [00:03<05:10, 1.42MB/s]\r",
      " 13%|█▎        | 64.6M/480M [00:03<03:37, 2.00MB/s]\r",
      " 14%|█▍        | 69.1M/480M [00:03<02:35, 2.77MB/s]\r",
      " 15%|█▌        | 73.0M/480M [00:03<01:52, 3.80MB/s]\r",
      " 16%|█▌        | 76.6M/480M [00:03<01:22, 5.11MB/s]\r",
      " 17%|█▋        | 79.8M/480M [00:04<01:03, 6.63MB/s]\r",
      " 17%|█▋        | 82.7M/480M [00:04<00:49, 8.49MB/s]\r",
      " 18%|█▊        | 85.4M/480M [00:04<00:39, 10.5MB/s]\r",
      " 18%|█▊        | 87.9M/480M [00:04<00:32, 12.6MB/s]\r",
      " 19%|█▉        | 90.4M/480M [00:04<00:27, 14.7MB/s]\r",
      " 19%|█▉        | 92.9M/480M [00:04<00:25, 16.1MB/s]\r",
      " 20%|█▉        | 95.5M/480M [00:04<00:22, 18.2MB/s]\r",
      " 20%|██        | 97.9M/480M [00:04<00:20, 19.7MB/s]\r",
      " 21%|██        | 100M/480M [00:05<00:19, 20.9MB/s] \r",
      " 21%|██▏       | 103M/480M [00:05<00:18, 21.4MB/s]\r",
      " 22%|██▏       | 105M/480M [00:05<00:18, 21.3MB/s]\r",
      " 22%|██▏       | 108M/480M [00:05<00:17, 22.5MB/s]\r",
      " 23%|██▎       | 110M/480M [00:05<00:17, 22.5MB/s]\r",
      " 23%|██▎       | 112M/480M [00:05<00:17, 22.4MB/s]\r",
      " 24%|██▍       | 115M/480M [00:05<00:16, 22.9MB/s]\r",
      " 24%|██▍       | 117M/480M [00:05<00:16, 23.0MB/s]\r",
      " 25%|██▍       | 120M/480M [00:05<00:15, 23.8MB/s]\r",
      " 25%|██▌       | 122M/480M [00:05<00:15, 23.8MB/s]\r",
      " 26%|██▌       | 124M/480M [00:06<00:15, 23.9MB/s]\r",
      " 26%|██▋       | 127M/480M [00:06<00:15, 23.5MB/s]\r",
      " 27%|██▋       | 129M/480M [00:06<00:15, 23.4MB/s]\r",
      " 27%|██▋       | 131M/480M [00:06<00:15, 23.2MB/s]\r",
      " 28%|██▊       | 134M/480M [00:06<00:15, 23.7MB/s]\r",
      " 28%|██▊       | 136M/480M [00:06<00:15, 22.8MB/s]\r",
      " 29%|██▉       | 138M/480M [00:06<00:15, 22.8MB/s]\r",
      " 29%|██▉       | 141M/480M [00:06<00:14, 23.8MB/s]\r",
      " 30%|██▉       | 143M/480M [00:06<00:14, 24.1MB/s]\r",
      " 30%|███       | 146M/480M [00:07<00:14, 23.9MB/s]\r",
      " 31%|███       | 148M/480M [00:07<00:15, 23.2MB/s]\r",
      " 31%|███▏      | 150M/480M [00:07<00:15, 22.6MB/s]\r",
      " 32%|███▏      | 153M/480M [00:07<00:14, 23.9MB/s]\r",
      " 32%|███▏      | 156M/480M [00:07<00:14, 24.0MB/s]\r",
      " 33%|███▎      | 158M/480M [00:07<00:14, 24.0MB/s]\r",
      " 33%|███▎      | 160M/480M [00:07<00:14, 23.3MB/s]\r",
      " 34%|███▍      | 163M/480M [00:07<00:13, 23.9MB/s]\r",
      " 34%|███▍      | 165M/480M [00:07<00:13, 23.8MB/s]\r",
      " 35%|███▍      | 167M/480M [00:08<00:13, 23.8MB/s]\r",
      " 35%|███▌      | 170M/480M [00:08<00:13, 23.3MB/s]\r",
      " 36%|███▌      | 172M/480M [00:08<00:13, 23.5MB/s]\r",
      " 36%|███▋      | 174M/480M [00:08<00:13, 23.0MB/s]\r",
      " 37%|███▋      | 177M/480M [00:08<00:13, 23.7MB/s]\r",
      " 37%|███▋      | 179M/480M [00:08<00:13, 23.5MB/s]\r",
      " 38%|███▊      | 181M/480M [00:08<00:13, 23.4MB/s]\r",
      " 38%|███▊      | 184M/480M [00:08<00:13, 23.1MB/s]\r",
      " 39%|███▉      | 187M/480M [00:08<00:13, 23.5MB/s]\r",
      " 39%|███▉      | 189M/480M [00:08<00:13, 22.3MB/s]\r",
      " 40%|███▉      | 191M/480M [00:09<00:12, 23.5MB/s]\r",
      " 40%|████      | 194M/480M [00:09<00:12, 23.7MB/s]\r",
      " 41%|████      | 197M/480M [00:09<00:12, 24.3MB/s]\r",
      " 41%|████▏     | 199M/480M [00:09<00:12, 23.7MB/s]\r",
      " 42%|████▏     | 202M/480M [00:09<00:12, 23.9MB/s]\r",
      " 42%|████▏     | 204M/480M [00:09<00:12, 23.3MB/s]\r",
      " 43%|████▎     | 206M/480M [00:09<00:12, 23.8MB/s]\r",
      " 43%|████▎     | 209M/480M [00:09<00:12, 22.8MB/s]\r",
      " 44%|████▍     | 211M/480M [00:09<00:12, 22.1MB/s]\r",
      " 44%|████▍     | 213M/480M [00:10<00:11, 23.4MB/s]\r",
      " 45%|████▍     | 216M/480M [00:10<00:11, 24.3MB/s]\r",
      " 46%|████▌     | 218M/480M [00:10<00:11, 24.0MB/s]\r",
      " 46%|████▌     | 221M/480M [00:10<00:11, 24.2MB/s]\r",
      " 47%|████▋     | 223M/480M [00:10<00:10, 24.6MB/s]\r",
      " 47%|████▋     | 226M/480M [00:10<00:11, 22.7MB/s]\r",
      " 48%|████▊     | 228M/480M [00:10<00:11, 23.8MB/s]\r",
      " 48%|████▊     | 231M/480M [00:10<00:11, 23.7MB/s]\r",
      " 49%|████▊     | 233M/480M [00:10<00:11, 23.4MB/s]\r",
      " 49%|████▉     | 236M/480M [00:11<00:10, 23.4MB/s]\r",
      " 50%|████▉     | 238M/480M [00:11<00:10, 24.0MB/s]\r",
      " 50%|█████     | 241M/480M [00:11<00:10, 24.0MB/s]\r",
      " 51%|█████     | 243M/480M [00:11<00:10, 23.4MB/s]\r",
      " 51%|█████     | 245M/480M [00:11<00:10, 23.4MB/s]\r",
      " 52%|█████▏    | 248M/480M [00:11<00:09, 24.4MB/s]\r",
      " 52%|█████▏    | 250M/480M [00:11<00:10, 23.8MB/s]\r",
      " 53%|█████▎    | 252M/480M [00:11<00:10, 23.3MB/s]\r",
      " 53%|█████▎    | 255M/480M [00:11<00:10, 22.9MB/s]\r",
      " 54%|█████▎    | 257M/480M [00:11<00:10, 22.9MB/s]\r",
      " 54%|█████▍    | 260M/480M [00:12<00:09, 23.8MB/s]\r",
      " 55%|█████▍    | 262M/480M [00:12<00:10, 22.3MB/s]\r",
      " 55%|█████▌    | 265M/480M [00:12<00:09, 23.4MB/s]\r",
      " 56%|█████▌    | 267M/480M [00:12<00:09, 24.0MB/s]\r",
      " 56%|█████▌    | 270M/480M [00:12<00:09, 23.3MB/s]\r",
      " 57%|█████▋    | 272M/480M [00:12<00:09, 22.4MB/s]\r",
      " 57%|█████▋    | 275M/480M [00:12<00:09, 23.1MB/s]\r",
      " 58%|█████▊    | 277M/480M [00:12<00:08, 24.2MB/s]\r",
      " 58%|█████▊    | 280M/480M [00:12<00:08, 24.6MB/s]\r",
      " 59%|█████▉    | 282M/480M [00:13<00:08, 24.2MB/s]\r",
      " 59%|█████▉    | 285M/480M [00:13<00:08, 23.0MB/s]\r",
      " 60%|█████▉    | 287M/480M [00:13<00:08, 24.0MB/s]\r",
      " 60%|██████    | 290M/480M [00:13<00:08, 22.7MB/s]\r",
      " 61%|██████    | 292M/480M [00:13<00:08, 23.7MB/s]\r",
      " 61%|██████▏   | 295M/480M [00:13<00:08, 23.7MB/s]\r",
      " 62%|██████▏   | 297M/480M [00:13<00:07, 24.1MB/s]\r",
      " 62%|██████▏   | 300M/480M [00:13<00:07, 23.8MB/s]\r",
      " 63%|██████▎   | 302M/480M [00:13<00:07, 23.9MB/s]\r",
      " 63%|██████▎   | 304M/480M [00:14<00:08, 22.9MB/s]\r",
      " 64%|██████▍   | 306M/480M [00:14<00:07, 22.8MB/s]\r",
      " 64%|██████▍   | 309M/480M [00:14<00:07, 24.3MB/s]\r",
      " 65%|██████▍   | 312M/480M [00:14<00:07, 24.2MB/s]\r",
      " 65%|██████▌   | 314M/480M [00:14<00:07, 24.0MB/s]\r",
      " 66%|██████▌   | 316M/480M [00:14<00:07, 22.4MB/s]\r",
      " 66%|██████▋   | 319M/480M [00:14<00:07, 23.1MB/s]\r",
      " 67%|██████▋   | 321M/480M [00:14<00:07, 23.3MB/s]\r",
      " 67%|██████▋   | 324M/480M [00:14<00:06, 24.5MB/s]\r",
      " 68%|██████▊   | 326M/480M [00:15<00:06, 23.1MB/s]\r",
      " 69%|██████▊   | 329M/480M [00:15<00:06, 24.0MB/s]\r",
      " 69%|██████▉   | 331M/480M [00:15<00:06, 23.6MB/s]\r",
      " 70%|██████▉   | 334M/480M [00:15<00:06, 23.8MB/s]\r",
      " 70%|██████▉   | 336M/480M [00:15<00:06, 23.9MB/s]\r",
      " 70%|███████   | 338M/480M [00:15<00:06, 23.8MB/s]\r",
      " 71%|███████   | 341M/480M [00:15<00:06, 23.8MB/s]\r",
      " 71%|███████▏  | 343M/480M [00:15<00:06, 23.8MB/s]\r",
      " 72%|███████▏  | 345M/480M [00:15<00:05, 23.7MB/s]\r",
      " 72%|███████▏  | 348M/480M [00:15<00:05, 23.8MB/s]\r",
      " 73%|███████▎  | 350M/480M [00:16<00:05, 23.7MB/s]\r",
      " 73%|███████▎  | 353M/480M [00:16<00:05, 22.7MB/s]\r",
      " 74%|███████▍  | 355M/480M [00:16<00:05, 23.3MB/s]\r",
      " 74%|███████▍  | 357M/480M [00:16<00:05, 23.8MB/s]\r",
      " 75%|███████▍  | 360M/480M [00:16<00:05, 23.9MB/s]\r",
      " 75%|███████▌  | 362M/480M [00:16<00:05, 23.4MB/s]\r",
      " 76%|███████▌  | 364M/480M [00:16<00:05, 23.4MB/s]\r",
      " 76%|███████▋  | 367M/480M [00:16<00:04, 24.0MB/s]\r",
      " 77%|███████▋  | 369M/480M [00:16<00:04, 23.6MB/s]\r",
      " 77%|███████▋  | 371M/480M [00:17<00:05, 21.0MB/s]\r",
      " 78%|███████▊  | 374M/480M [00:17<00:04, 22.2MB/s]\r",
      " 79%|███████▊  | 377M/480M [00:17<00:04, 24.3MB/s]\r",
      " 79%|███████▉  | 380M/480M [00:17<00:10, 10.2MB/s]\r",
      " 80%|███████▉  | 382M/480M [00:17<00:08, 12.4MB/s]\r",
      " 80%|████████  | 386M/480M [00:18<00:06, 15.4MB/s]\r",
      " 81%|████████  | 390M/480M [00:18<00:05, 18.9MB/s]\r",
      " 82%|████████▏ | 394M/480M [00:18<00:03, 22.8MB/s]\r",
      " 83%|████████▎ | 399M/480M [00:18<00:03, 27.0MB/s]\r",
      " 84%|████████▍ | 404M/480M [00:18<00:02, 31.6MB/s]\r",
      " 85%|████████▍ | 408M/480M [00:18<00:02, 30.6MB/s]\r",
      " 86%|████████▌ | 411M/480M [00:18<00:02, 27.8MB/s]\r",
      " 86%|████████▋ | 414M/480M [00:18<00:02, 27.2MB/s]\r",
      " 87%|████████▋ | 417M/480M [00:19<00:02, 25.6MB/s]\r",
      " 87%|████████▋ | 420M/480M [00:19<00:02, 25.0MB/s]\r",
      " 88%|████████▊ | 423M/480M [00:19<00:02, 24.9MB/s]\r",
      " 89%|████████▊ | 425M/480M [00:19<00:02, 24.5MB/s]\r",
      " 89%|████████▉ | 428M/480M [00:19<00:02, 24.8MB/s]\r",
      " 90%|████████▉ | 430M/480M [00:19<00:02, 24.6MB/s]\r",
      " 90%|█████████ | 433M/480M [00:19<00:02, 23.9MB/s]\r",
      " 91%|█████████ | 435M/480M [00:19<00:02, 22.7MB/s]\r",
      " 91%|█████████ | 437M/480M [00:19<00:01, 23.5MB/s]\r",
      " 92%|█████████▏| 440M/480M [00:20<00:01, 23.8MB/s]\r",
      " 92%|█████████▏| 442M/480M [00:20<00:01, 24.3MB/s]\r",
      " 93%|█████████▎| 445M/480M [00:20<00:01, 23.8MB/s]\r",
      " 93%|█████████▎| 447M/480M [00:20<00:01, 23.3MB/s]\r",
      " 94%|█████████▎| 450M/480M [00:20<00:01, 23.8MB/s]\r",
      " 94%|█████████▍| 452M/480M [00:20<00:01, 23.2MB/s]\r",
      " 95%|█████████▍| 454M/480M [00:20<00:01, 23.2MB/s]\r",
      " 95%|█████████▌| 456M/480M [00:20<00:01, 22.8MB/s]\r",
      " 96%|█████████▌| 459M/480M [00:20<00:00, 23.7MB/s]\r",
      " 96%|█████████▌| 462M/480M [00:21<00:00, 23.7MB/s]\r",
      " 97%|█████████▋| 464M/480M [00:21<00:00, 22.9MB/s]\r",
      " 97%|█████████▋| 467M/480M [00:21<00:00, 23.7MB/s]\r",
      " 98%|█████████▊| 469M/480M [00:21<00:00, 23.1MB/s]\r",
      " 98%|█████████▊| 472M/480M [00:21<00:00, 24.0MB/s]\r",
      " 99%|█████████▊| 474M/480M [00:21<00:00, 23.2MB/s]\r",
      " 99%|█████████▉| 477M/480M [00:21<00:00, 23.2MB/s]\r",
      "100%|█████████▉| 479M/480M [00:21<00:00, 22.1MB/s]\r",
      "100%|██████████| 480M/480M [00:23<00:00, 21.1MB/s]\n"
     ]
    }
   ],
   "source": [
    "%%bash\n",
    "sh kaggle_submit_fix.sh PLAsTiCC output predictions_1216_v5.csv PLAsTiCC-2018 simple_lgb_cv_0.4845"
   ]
  }
 ],
 "metadata": {
  "kernelspec": {
   "display_name": "Python 3",
   "language": "python",
   "name": "python3"
  },
  "language_info": {
   "codemirror_mode": {
    "name": "ipython",
    "version": 3
   },
   "file_extension": ".py",
   "mimetype": "text/x-python",
   "name": "python",
   "nbconvert_exporter": "python",
   "pygments_lexer": "ipython3",
   "version": "3.7.0"
  }
 },
 "nbformat": 4,
 "nbformat_minor": 2
}
